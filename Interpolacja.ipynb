{
 "cells": [
  {
   "cell_type": "code",
   "execution_count": 469,
   "metadata": {
    "ExecuteTime": {
     "end_time": "2023-04-03T12:06:18.326820Z",
     "start_time": "2023-04-03T12:06:18.303819Z"
    }
   },
   "outputs": [],
   "source": [
    "import numpy as np"
   ]
  },
  {
   "cell_type": "markdown",
   "metadata": {},
   "source": [
    "### Lista zawierająca punkty pomiarowe stanowiące podstawę obliczeń"
   ]
  },
  {
   "cell_type": "code",
   "execution_count": 470,
   "metadata": {
    "ExecuteTime": {
     "end_time": "2023-04-03T12:06:18.351820Z",
     "start_time": "2023-04-03T12:06:18.322822Z"
    }
   },
   "outputs": [
    {
     "data": {
      "text/plain": [
       "array([[ 1,  2,  3,  4],\n",
       "       [ 3,  1, -1,  2]])"
      ]
     },
     "execution_count": 470,
     "metadata": {},
     "output_type": "execute_result"
    }
   ],
   "source": [
    "pts = np.array([[1,3], [2,1], [3, -1], [4, 2]])\n",
    "pts = np.transpose(pts)\n",
    "pts"
   ]
  },
  {
   "cell_type": "markdown",
   "metadata": {},
   "source": [
    "### Punkt w którym będziemy szukać wartości wielomianu interpolacyjnego"
   ]
  },
  {
   "cell_type": "code",
   "execution_count": 471,
   "metadata": {
    "ExecuteTime": {
     "end_time": "2023-04-03T12:06:18.354822Z",
     "start_time": "2023-04-03T12:06:18.337820Z"
    }
   },
   "outputs": [],
   "source": [
    "x = 10"
   ]
  },
  {
   "cell_type": "markdown",
   "metadata": {},
   "source": [
    "### Przypisanie wartości z listy do zmiennych w celu łatwiejszego ich wykorzystania"
   ]
  },
  {
   "cell_type": "code",
   "execution_count": 472,
   "metadata": {
    "ExecuteTime": {
     "end_time": "2023-04-03T12:06:18.368826Z",
     "start_time": "2023-04-03T12:06:18.353821Z"
    }
   },
   "outputs": [
    {
     "name": "stdout",
     "output_type": "stream",
     "text": [
      "i  =  [0 1 2 3]\n",
      "Xj =  [1 2 3 4]\n",
      "Yj =  [ 3  1 -1  2]\n"
     ]
    }
   ],
   "source": [
    "xj = pts[0]\n",
    "yj = pts[1]\n",
    "print('i  = ', np.arange(len(xj)))\n",
    "print ('Xj = ', xj)\n",
    "print ('Yj = ', yj)"
   ]
  },
  {
   "cell_type": "markdown",
   "metadata": {},
   "source": [
    "### Obliczanie liczników wszysktich wielomianów i zapisanie ich do tablicy o nazwie tops"
   ]
  },
  {
   "cell_type": "code",
   "execution_count": 473,
   "metadata": {
    "ExecuteTime": {
     "end_time": "2023-04-03T12:06:18.414823Z",
     "start_time": "2023-04-03T12:06:18.370823Z"
    }
   },
   "outputs": [
    {
     "name": "stdout",
     "output_type": "stream",
     "text": [
      "[336. 378. 432. 504.]\n"
     ]
    }
   ],
   "source": [
    "tops = np.array([])\n",
    "for xindex, xx in enumerate(xj):\n",
    "    # Create a boolean mask to select all elements except for the one at the specified index\n",
    "    mask = np.arange(len(xj)) != xindex\n",
    "    # Use the boolean mask to select the elements we want\n",
    "    elements_except_current = xj[mask]\n",
    "    top = np.prod(x - elements_except_current)\n",
    "    tops = np.append(tops, top)\n",
    "\n",
    "print(tops)"
   ]
  },
  {
   "cell_type": "markdown",
   "metadata": {},
   "source": [
    "### Obliczanie mianowników wszystkich wielomianów i zapisanie ich do tablicy o nazwie bottoms"
   ]
  },
  {
   "cell_type": "code",
   "execution_count": 474,
   "metadata": {
    "ExecuteTime": {
     "end_time": "2023-04-03T12:06:18.414823Z",
     "start_time": "2023-04-03T12:06:18.396826Z"
    }
   },
   "outputs": [
    {
     "name": "stdout",
     "output_type": "stream",
     "text": [
      "[-6.  2. -2.  6.]\n"
     ]
    }
   ],
   "source": [
    "bottoms = np.array([])\n",
    "for xindex, xx in enumerate(xj):\n",
    "   x_other_than_curr = xj[np.arange(len(xj)) != xindex]\n",
    "   bottom = np.prod(xx - xj[np.arange(len(xj)) != xindex])\n",
    "   bottoms = np.append(bottoms, bottom)\n",
    "print(bottoms)"
   ]
  },
  {
   "cell_type": "code",
   "execution_count": 475,
   "metadata": {
    "ExecuteTime": {
     "end_time": "2023-04-03T12:06:18.421825Z",
     "start_time": "2023-04-03T12:06:18.403825Z"
    }
   },
   "outputs": [
    {
     "name": "stdout",
     "output_type": "stream",
     "text": [
      "tops [336. 378. 432. 504.]\n",
      "bottoms [-6.  2. -2.  6.]\n",
      "poszczegolne_skladniki [-168.  189.  216.  168.]\n",
      "suma 405.0\n"
     ]
    }
   ],
   "source": [
    "print('tops', tops)\n",
    "print('bottoms', bottoms)\n",
    "division = np.divide(tops, bottoms)\n",
    "poszczegolne_skladniki = (yj*division)\n",
    "print('poszczegolne_skladniki', poszczegolne_skladniki)\n",
    "print('suma', np.sum(poszczegolne_skladniki))"
   ]
  },
  {
   "cell_type": "markdown",
   "metadata": {},
   "source": [
    "### Wyświetlenie wartości wielomianu interpolacyjnego w punkcie x"
   ]
  },
  {
   "cell_type": "code",
   "execution_count": 476,
   "metadata": {
    "ExecuteTime": {
     "end_time": "2023-04-03T12:06:18.432825Z",
     "start_time": "2023-04-03T12:06:18.417825Z"
    }
   },
   "outputs": [
    {
     "name": "stdout",
     "output_type": "stream",
     "text": [
      "Wartość wielomianu interpolacyjnego w punkcie x =  10  wynosi:  405.0\n"
     ]
    }
   ],
   "source": [
    "print('Wartość wielomianu interpolacyjnego w punkcie x = ', x, ' wynosi: ', np.sum(poszczegolne_skladniki))"
   ]
  },
  {
   "cell_type": "code",
   "execution_count": 477,
   "metadata": {
    "ExecuteTime": {
     "end_time": "2023-04-03T12:06:18.476825Z",
     "start_time": "2023-04-03T12:06:18.434827Z"
    }
   },
   "outputs": [],
   "source": [
    "from sympy import symbols, simplify"
   ]
  },
  {
   "cell_type": "code",
   "execution_count": 478,
   "metadata": {
    "ExecuteTime": {
     "end_time": "2023-04-03T12:06:18.481826Z",
     "start_time": "2023-04-03T12:06:18.450830Z"
    }
   },
   "outputs": [],
   "source": [
    "x = symbols('x')"
   ]
  },
  {
   "cell_type": "code",
   "execution_count": 479,
   "metadata": {
    "ExecuteTime": {
     "end_time": "2023-04-03T12:06:18.539188Z",
     "start_time": "2023-04-03T12:06:18.463827Z"
    }
   },
   "outputs": [
    {
     "name": "stdout",
     "output_type": "stream",
     "text": [
      "[(x - 4)*(x - 3)*(x - 2) (x - 4)*(x - 3)*(x - 1) (x - 4)*(x - 2)*(x - 1)\n",
      " (x - 3)*(x - 2)*(x - 1)]\n",
      "[(x - 4)*(x - 3)*(x - 2), (x - 4)*(x - 3)*(x - 1), (x - 4)*(x - 2)*(x - 1), (x - 3)*(x - 2)*(x - 1)]\n"
     ]
    }
   ],
   "source": [
    "tops = np.array([])\n",
    "for xindex, xx in enumerate(xj):\n",
    "    # Create a boolean mask to select all elements except for the one at the specified index\n",
    "    mask = np.arange(len(xj)) != xindex\n",
    "    # Use the boolean mask to select the elements we want\n",
    "    elements_except_current = xj[mask]\n",
    "    top = np.prod(x - elements_except_current)\n",
    "    tops = np.append(tops, top)\n",
    "\n",
    "print(tops)\n",
    "print(simplify(tops))"
   ]
  },
  {
   "cell_type": "code",
   "execution_count": 480,
   "metadata": {
    "ExecuteTime": {
     "end_time": "2023-04-03T12:06:18.542115Z",
     "start_time": "2023-04-03T12:06:18.510830Z"
    }
   },
   "outputs": [
    {
     "name": "stdout",
     "output_type": "stream",
     "text": [
      "tops [(x - 4)*(x - 3)*(x - 2) (x - 4)*(x - 3)*(x - 1) (x - 4)*(x - 2)*(x - 1)\n",
      " (x - 3)*(x - 2)*(x - 1)]\n",
      "bottoms [-6.  2. -2.  6.]\n",
      "poszczegolne_skladniki [-0.5*(x - 4)*(x - 3)*(x - 2) 0.5*(x - 4)*(x - 3)*(x - 1)\n",
      " 0.5*(x - 4)*(x - 2)*(x - 1) 0.333333333333333*(x - 3)*(x - 2)*(x - 1)]\n",
      "suma -0.5*(x - 4)*(x - 3)*(x - 2) + 0.5*(x - 4)*(x - 3)*(x - 1) + 0.5*(x - 4)*(x - 2)*(x - 1) + 0.333333333333333*(x - 3)*(x - 2)*(x - 1)\n",
      "x*(0.833333333333333*x**2 - 5.0*x + 7.16666666666667)\n"
     ]
    }
   ],
   "source": [
    "print('tops', tops)\n",
    "print('bottoms', bottoms)\n",
    "division = np.divide(tops, bottoms)\n",
    "poszczegolne_skladniki = (yj*division)\n",
    "print('poszczegolne_skladniki', poszczegolne_skladniki)\n",
    "print('suma', np.sum(poszczegolne_skladniki))\n",
    "print(simplify(np.sum(poszczegolne_skladniki)))"
   ]
  },
  {
   "cell_type": "code",
   "execution_count": 481,
   "metadata": {
    "ExecuteTime": {
     "end_time": "2023-04-03T12:06:18.701122Z",
     "start_time": "2023-04-03T12:06:18.541114Z"
    }
   },
   "outputs": [
    {
     "data": {
      "image/png": "[encoded data removed]",
      "text/plain": [
       "<Figure size 640x480 with 1 Axes>"
      ]
     },
     "metadata": {},
     "output_type": "display_data"
    }
   ],
   "source": [
    "import sympy as sp\n",
    "from sympy.plotting.plot import MatplotlibBackend, Plot\n",
    "\n",
    "def get_sympy_subplots(plot:Plot):\n",
    "    backend = MatplotlibBackend(plot)\n",
    "\n",
    "    backend.process_series()\n",
    "    backend.fig.tight_layout()\n",
    "    return backend.fig, backend.ax[0]\n",
    "\n",
    "p1 = sp.plot(np.sum(poszczegolne_skladniki), (x, 0, 4),  show=False, line_color='red')\n",
    "p1.title = 'Wielomian interpolacyjny'\n",
    "p1.margin = 0.2\n",
    "fig, axe = get_sympy_subplots(p1)\n",
    "# add additional plots\n",
    "axe.plot(xj, yj, \"o\")\n",
    "axe.grid()\n",
    "fig.savefig(\"plot_from_figure\")\n"
   ]
  }
 ],
 "metadata": {
  "kernelspec": {
   "display_name": "Python 3 (ipykernel)",
   "language": "python",
   "name": "python3"
  },
  "language_info": {
   "codemirror_mode": {
    "name": "ipython",
    "version": 3
   },
   "file_extension": ".py",
   "mimetype": "text/x-python",
   "name": "python",
   "nbconvert_exporter": "python",
   "pygments_lexer": "ipython3",
   "version": "3.10.4"
  }
 },
 "nbformat": 4,
 "nbformat_minor": 1
}
