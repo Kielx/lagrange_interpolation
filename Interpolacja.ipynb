{
 "cells": [
  {
   "cell_type": "code",
   "execution_count": 196,
   "outputs": [],
   "source": [
    "import numpy as np"
   ],
   "metadata": {
    "collapsed": false,
    "ExecuteTime": {
     "start_time": "2023-04-03T11:24:40.315948Z",
     "end_time": "2023-04-03T11:24:40.334945Z"
    }
   }
  },
  {
   "cell_type": "markdown",
   "source": [
    "### Lista zawierająca punkty pomiarowe stanowiące podstawę obliczeń"
   ],
   "metadata": {
    "collapsed": false
   }
  },
  {
   "cell_type": "code",
   "execution_count": 197,
   "outputs": [
    {
     "data": {
      "text/plain": "array([[ 1,  2,  3,  4],\n       [ 3,  1, -1,  2]])"
     },
     "execution_count": 197,
     "metadata": {},
     "output_type": "execute_result"
    }
   ],
   "source": [
    "pts = np.array([[1,3], [2,1], [3, -1], [4, 2]])\n",
    "pts = np.transpose(pts)\n",
    "pts"
   ],
   "metadata": {
    "collapsed": false,
    "ExecuteTime": {
     "start_time": "2023-04-03T11:24:40.330945Z",
     "end_time": "2023-04-03T11:24:40.359945Z"
    }
   }
  },
  {
   "cell_type": "markdown",
   "source": [
    "### Punkt w którym będziemy szukać wartości wielomianu interpolacyjnego"
   ],
   "metadata": {
    "collapsed": false
   }
  },
  {
   "cell_type": "code",
   "execution_count": 198,
   "outputs": [],
   "source": [
    "x = 10"
   ],
   "metadata": {
    "collapsed": false,
    "ExecuteTime": {
     "start_time": "2023-04-03T11:24:40.344945Z",
     "end_time": "2023-04-03T11:24:40.360947Z"
    }
   }
  },
  {
   "cell_type": "markdown",
   "source": [
    "### Przypisanie wartości z listy do zmiennych w celu łatwiejszego ich wykorzystania"
   ],
   "metadata": {
    "collapsed": false
   }
  },
  {
   "cell_type": "code",
   "execution_count": 199,
   "outputs": [
    {
     "name": "stdout",
     "output_type": "stream",
     "text": [
      "i  =  [0 1 2 3]\n",
      "Xj =  [1 2 3 4]\n",
      "Yj =  [ 3  1 -1  2]\n"
     ]
    }
   ],
   "source": [
    "xj = pts[0]\n",
    "yj = pts[1]\n",
    "print('i  = ', np.arange(len(xj)))\n",
    "print ('Xj = ', xj)\n",
    "print ('Yj = ', yj)"
   ],
   "metadata": {
    "collapsed": false,
    "ExecuteTime": {
     "start_time": "2023-04-03T11:24:40.361945Z",
     "end_time": "2023-04-03T11:24:40.375557Z"
    }
   }
  },
  {
   "cell_type": "markdown",
   "source": [
    "### Obliczanie liczników wszysktich wielomianów i zapisanie ich do tablicy o nazwie tops"
   ],
   "metadata": {
    "collapsed": false
   }
  },
  {
   "cell_type": "code",
   "execution_count": 200,
   "outputs": [
    {
     "name": "stdout",
     "output_type": "stream",
     "text": [
      "[336. 378. 432. 504.]\n"
     ]
    }
   ],
   "source": [
    "tops = np.array([])\n",
    "for xindex, xx in enumerate(xj):\n",
    "    # Create a boolean mask to select all elements except for the one at the specified index\n",
    "    mask = np.arange(len(xj)) != xindex\n",
    "    # Use the boolean mask to select the elements we want\n",
    "    elements_except_current = xj[mask]\n",
    "    top = np.prod(x - elements_except_current)\n",
    "    tops = np.append(tops, top)\n",
    "\n",
    "print(tops)"
   ],
   "metadata": {
    "collapsed": false,
    "ExecuteTime": {
     "start_time": "2023-04-03T11:24:40.375557Z",
     "end_time": "2023-04-03T11:24:40.420556Z"
    }
   }
  },
  {
   "cell_type": "markdown",
   "source": [
    "### Obliczanie mianowników wszystkich wielomianów i zapisanie ich do tablicy o nazwie bottoms"
   ],
   "metadata": {
    "collapsed": false
   }
  },
  {
   "cell_type": "code",
   "execution_count": 201,
   "outputs": [
    {
     "name": "stdout",
     "output_type": "stream",
     "text": [
      "[-6.  2. -2.  6.]\n"
     ]
    }
   ],
   "source": [
    "bottoms = np.array([])\n",
    "for xindex, xx in enumerate(xj):\n",
    "   x_other_than_curr = xj[np.arange(len(xj)) != xindex]\n",
    "   bottom = np.prod(xx - xj[np.arange(len(xj)) != xindex])\n",
    "   bottoms = np.append(bottoms, bottom)\n",
    "print(bottoms)"
   ],
   "metadata": {
    "collapsed": false,
    "ExecuteTime": {
     "start_time": "2023-04-03T11:24:40.392556Z",
     "end_time": "2023-04-03T11:24:40.423557Z"
    }
   }
  },
  {
   "cell_type": "code",
   "execution_count": 202,
   "outputs": [
    {
     "name": "stdout",
     "output_type": "stream",
     "text": [
      "tops [336. 378. 432. 504.]\n",
      "bottoms [-6.  2. -2.  6.]\n",
      "poszczegolne_skladniki [-168.  189.  216.  168.]\n",
      "suma 405.0\n"
     ]
    }
   ],
   "source": [
    "print('tops', tops)\n",
    "print('bottoms', bottoms)\n",
    "division = np.divide(tops, bottoms)\n",
    "poszczegolne_skladniki = (yj*division)\n",
    "print('poszczegolne_skladniki', poszczegolne_skladniki)\n",
    "print('suma', np.sum(poszczegolne_skladniki))"
   ],
   "metadata": {
    "collapsed": false,
    "ExecuteTime": {
     "start_time": "2023-04-03T11:24:40.408557Z",
     "end_time": "2023-04-03T11:24:40.423557Z"
    }
   }
  },
  {
   "cell_type": "markdown",
   "source": [
    "### Wyświetlenie wartości wielomianu interpolacyjnego w punkcie x"
   ],
   "metadata": {
    "collapsed": false
   }
  },
  {
   "cell_type": "code",
   "execution_count": 203,
   "outputs": [
    {
     "name": "stdout",
     "output_type": "stream",
     "text": [
      "Wartość wielomianu interpolacyjnego w punkcie x =  10  wynosi:  405.0\n"
     ]
    }
   ],
   "source": [
    "print('Wartość wielomianu interpolacyjnego w punkcie x = ', x, ' wynosi: ', np.sum(poszczegolne_skladniki))"
   ],
   "metadata": {
    "collapsed": false,
    "ExecuteTime": {
     "start_time": "2023-04-03T11:24:40.423557Z",
     "end_time": "2023-04-03T11:24:40.438557Z"
    }
   }
  },
  {
   "cell_type": "code",
   "execution_count": 204,
   "outputs": [],
   "source": [
    "from sympy import symbols, simplify"
   ],
   "metadata": {
    "collapsed": false,
    "ExecuteTime": {
     "start_time": "2023-04-03T11:24:40.439557Z",
     "end_time": "2023-04-03T11:24:40.484599Z"
    }
   }
  },
  {
   "cell_type": "code",
   "execution_count": 205,
   "outputs": [],
   "source": [
    "x = symbols('x')"
   ],
   "metadata": {
    "collapsed": false,
    "ExecuteTime": {
     "start_time": "2023-04-03T11:24:40.457607Z",
     "end_time": "2023-04-03T11:24:40.486599Z"
    }
   }
  },
  {
   "cell_type": "code",
   "execution_count": 206,
   "outputs": [
    {
     "name": "stdout",
     "output_type": "stream",
     "text": [
      "[(x - 4)*(x - 3)*(x - 2) (x - 4)*(x - 3)*(x - 1) (x - 4)*(x - 2)*(x - 1)\n",
      " (x - 3)*(x - 2)*(x - 1)]\n",
      "[(x - 4)*(x - 3)*(x - 2), (x - 4)*(x - 3)*(x - 1), (x - 4)*(x - 2)*(x - 1), (x - 3)*(x - 2)*(x - 1)]\n"
     ]
    }
   ],
   "source": [
    "tops = np.array([])\n",
    "for xindex, xx in enumerate(xj):\n",
    "    # Create a boolean mask to select all elements except for the one at the specified index\n",
    "    mask = np.arange(len(xj)) != xindex\n",
    "    # Use the boolean mask to select the elements we want\n",
    "    elements_except_current = xj[mask]\n",
    "    top = np.prod(x - elements_except_current)\n",
    "    tops = np.append(tops, top)\n",
    "\n",
    "print(tops)\n",
    "print(simplify(tops))"
   ],
   "metadata": {
    "collapsed": false,
    "ExecuteTime": {
     "start_time": "2023-04-03T11:24:40.471602Z",
     "end_time": "2023-04-03T11:24:40.547227Z"
    }
   }
  },
  {
   "cell_type": "code",
   "execution_count": 207,
   "outputs": [
    {
     "name": "stdout",
     "output_type": "stream",
     "text": [
      "tops [(x - 4)*(x - 3)*(x - 2) (x - 4)*(x - 3)*(x - 1) (x - 4)*(x - 2)*(x - 1)\n",
      " (x - 3)*(x - 2)*(x - 1)]\n",
      "bottoms [-6.  2. -2.  6.]\n",
      "poszczegolne_skladniki [-0.5*(x - 4)*(x - 3)*(x - 2) 0.5*(x - 4)*(x - 3)*(x - 1)\n",
      " 0.5*(x - 4)*(x - 2)*(x - 1) 0.333333333333333*(x - 3)*(x - 2)*(x - 1)]\n",
      "suma -0.5*(x - 4)*(x - 3)*(x - 2) + 0.5*(x - 4)*(x - 3)*(x - 1) + 0.5*(x - 4)*(x - 2)*(x - 1) + 0.333333333333333*(x - 3)*(x - 2)*(x - 1)\n",
      "x*(0.833333333333333*x**2 - 5.0*x + 7.16666666666667)\n"
     ]
    }
   ],
   "source": [
    "print('tops', tops)\n",
    "print('bottoms', bottoms)\n",
    "division = np.divide(tops, bottoms)\n",
    "poszczegolne_skladniki = (yj*division)\n",
    "print('poszczegolne_skladniki', poszczegolne_skladniki)\n",
    "print('suma', np.sum(poszczegolne_skladniki))\n",
    "print(simplify(np.sum(poszczegolne_skladniki)))"
   ],
   "metadata": {
    "collapsed": false,
    "ExecuteTime": {
     "start_time": "2023-04-03T11:24:40.522236Z",
     "end_time": "2023-04-03T11:24:40.553227Z"
    }
   }
  },
  {
   "cell_type": "code",
   "execution_count": 208,
   "outputs": [
    {
     "data": {
      "text/plain": "<Figure size 640x480 with 1 Axes>",
      "image/png": "[encoded data removed]"
     },
     "metadata": {},
     "output_type": "display_data"
    }
   ],
   "source": [
    "from sympy.plotting import plot\n",
    "\n",
    "p1 = plot(np.sum(poszczegolne_skladniki), (x, -2, 10), show=False, line_color='red')\n",
    "\n",
    "p1.show()"
   ],
   "metadata": {
    "collapsed": false,
    "ExecuteTime": {
     "start_time": "2023-04-03T11:24:40.549229Z",
     "end_time": "2023-04-03T11:24:40.659228Z"
    }
   }
  }
 ],
 "metadata": {
  "kernelspec": {
   "display_name": "Python 3",
   "language": "python",
   "name": "python3"
  },
  "language_info": {
   "codemirror_mode": {
    "name": "ipython",
    "version": 2
   },
   "file_extension": ".py",
   "mimetype": "text/x-python",
   "name": "python",
   "nbconvert_exporter": "python",
   "pygments_lexer": "ipython2",
   "version": "2.7.6"
  }
 },
 "nbformat": 4,
 "nbformat_minor": 0
}
