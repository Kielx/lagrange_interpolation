{
 "cells": [
  {
   "cell_type": "markdown",
   "metadata": {},
   "source": [
    "# Obliczanie wartości wielomianu interpolacyjnego metodą Lagrange'a\n",
    "\n",
    "Interpolacja to proces szacowania wartości funkcji w punktach pośrednich na podstawie znanych wartości tej funkcji w\n",
    "innych punktach. W tym procesie szuka się funkcji, która najlepiej \"wpasuje\" się w zadane punkty i umożliwi szacowanie wartości funkcji w dowolnym miejscu. Najczęściej stosowaną metodą interpolacji jest interpolacja wielomianowa, polegająca na znalezieniu wielomianu, który przechodzi przez zadane punkty. Interpolacja jest stosowana w wielu dziedzinach, m.in. w matematyce, fizyce, ekonomii czy inżynierii, do analizy danych, aproksymacji funkcji i modelowania zjawisk. Metoda Lagrange'a jest jedną z popularnych metod numerycznych służących do interpolacji funkcji za pomocą wielomianu."
   ]
  },
  {
   "cell_type": "markdown",
   "metadata": {},
   "source": [
    "## Wstęp - Kroki obliczeń\n",
    "\n",
    "Ogólna postać wielomianu interpolacyjnego Lagrange'a wygląda następująco:\n",
    "\n",
    "![Wzor ogolny](assets/1.png)\n",
    "\n",
    "Dla 4 punktów wzór interpolacyjny Lagrange'a wygląda następująco:\n",
    "\n",
    "![Wzor dla 4 punktow](assets/2.png)\n",
    "\n",
    "Moje podejście do rozwiązania problemu polegało na podzieleniu całego problemu na mniejsze kroki, które są łatwiejsze\n",
    "do zrozumienia i wykonania. Uzyskane wyniki poszczególnych kroków następnie przechowujemy w tablicach, by później\n",
    " wykonać na nich odpowiednie operacje. Ułatwia to zrozumienie procesu oraz umożliwia jego prostą implementację w dowolnym języku programowania.\n",
    "\n",
    "Poszczególne kroki obliczeń można przedstawić w następujący sposób (tu dla 4 punktów):"
   ]
  },
  {
   "cell_type": "markdown",
   "metadata": {},
   "source": [
    "### 1. Obliczanie liczników wszystkich wielomianów interpolacyjnych oraz zapisanie ich w tablicy\n",
    "\n",
    "W każdym liczniku znajdują się różnice między wartością x a wartościami xᵢ poza wartością o aktualnym indeksie i.\n",
    "Wobec tego wartość licznika możemy obliczyć poprzez iterację po wszystkich wartościach xᵢ i wykluczenie z nich\n",
    "wartości xᵢ aktualnym indeksie. Następnie obliczamy iloczyn (ang. product) wszystkich wartości, które pozostały po\n",
    "wykluczeniu xᵢ wartości o aktualnym indeksie. By uniknąc koniecznoścci iteracji po wszystkich elementach, możemy\n",
    "zastosować wbudowaną w bibliotekę `numPy` funkcję `numpy.prod`, która zwróci automatycznie iloczyn elementów tablicy na\n",
    "danej osi. Wynik zapisujemy w tablicy liczniki.\n",
    "\n",
    "![Obliczanie licznikow](assets/3.png)"
   ]
  },
  {
   "cell_type": "markdown",
   "metadata": {},
   "source": [
    "### 2. Obliczanie mianowników wszystkich wielomianów interpolacyjnych oraz zapisanie ich w tablicy\n",
    "\n",
    "W każdym mianowniku znajdują się różnice między wartością xᵢ o aktualnym indeksie a wartościami xᵢ poza wartością o\n",
    "aktualnym indeksie i.\n",
    "Wobec tego wartość mianownika możemy obliczyć poprzez iterację po wszystkich wartościach xᵢ i wykluczenie z nich\n",
    "wartości xᵢ aktualnym indeksie. Następnie obliczamy iloczyn (ang. product) wszystkich wartości, które pozostały po\n",
    "wykluczeniu xᵢ wartości o aktualnym indeksie. By uniknąć koniecznoścci iteracji po wszystkich elementach, możemy\n",
    "zastosować wbudowaną w bibliotekę `numPy` funkcję `numpy.prod`, która zwróci automatycznie iloczyn elementów tablicy na\n",
    "danej osi. Wynik zapisujemy w tablicy mianowniki.\n",
    "![Obliczanie mianownikow](assets/4.png)"
   ]
  },
  {
   "cell_type": "markdown",
   "metadata": {},
   "source": [
    "### 3. Podzielenie liczników przez mianowniki\n",
    "\n",
    "Kolejnym krokiem jest obliczenie wyników dzielenia liczników przez mianowniki. Rozwiązujemy to poprzez iterację po\n",
    "ilości elementów równych ilości liczników i mianowników i dzieleniu każdego elementu jednej tablicy (licznika) przez\n",
    "każdy element drugiej tablicy (mianownika). By uniknąć koniecznoścci iteracji po wszystkich elementach, możemy\n",
    "zastosować wbudowaną w bibliotekę `numPy` funkcję `divide`, która zwróci automatycznie wynik dzielenia elementów\n",
    "tablicy `liczniki` przez elementy tablicy `mianowniki`.\n",
    "Wyniki zapisujemy w tablicy wyniki.\n",
    "\n",
    "![Podzielenie licznikow przez mianowniki](assets/5.png)"
   ]
  },
  {
   "cell_type": "markdown",
   "metadata": {},
   "source": [
    "### 4. Pomnożenie wyników z kroku 3 przez wartości funkcji w węzłach interpolacji\n",
    "\n",
    "Wyniki dzielenia następnie mnożymy przez wartości funkcji w węzłach interpolacji. Ułatwia to biblioteka numpy, dzięki\n",
    " wbudowanej funkcjonalności pozwalającej na mnożenie tablic przez skalar lub tablicę. W tym przypadku unikamy\n",
    " stosowania pętli for, dzięki czemu kod jest bardziej czytelny i łatwiejszy do zrozumienia.\n",
    "\n",
    "![Pomnozenie wynikow z kroku 3 przez wartosci funkcji w wezlach interpolacji](assets/6.png)"
   ]
  },
  {
   "cell_type": "markdown",
   "metadata": {},
   "source": [
    "### 5. Sumowanie wszystkich wyników z kroku 4\n",
    "\n",
    "W kolejnym kroku sumujemy wszystkie wyniki z kroku 4. W tym celu wykorzystujemy wbudowaną w bibliotekę `numPy` funkcję\n",
    " `numpy.sum`, która zwróci automatycznie sumę elementów tablicy na danej osi.\n",
    "\n",
    "![Sumowanie wszystkich wynikow z kroku 4](assets/7.png)"
   ]
  },
  {
   "cell_type": "markdown",
   "metadata": {},
   "source": [
    "### 6. Wyświetlenie wyniku\n",
    "\n",
    "Wartość wielomianu interpolacyjnego w punkcie x wynosi sumę z kroku 5\n",
    "<br>\n",
    "<br>"
   ]
  },
  {
   "cell_type": "markdown",
   "metadata": {},
   "source": [
    "\n",
    "\n",
    "\n",
    "\n",
    "\n",
    "## Przykład implementacji metody kroków dla 4 punktów interpolacji w języku Python"
   ]
  },
  {
   "cell_type": "markdown",
   "metadata": {},
   "source": [
    "### Import bibliotek"
   ]
  },
  {
   "cell_type": "code",
   "execution_count": 1,
   "metadata": {
    "ExecuteTime": {
     "start_time": "2023-04-04T12:26:10.230583Z",
     "end_time": "2023-04-04T12:26:10.434576Z"
    }
   },
   "outputs": [],
   "source": [
    "import numpy as np\n",
    "import pandas as pd"
   ]
  },
  {
   "cell_type": "markdown",
   "metadata": {},
   "source": [
    "### Lista zawierająca punkty pomiarowe stanowiące podstawę obliczeń"
   ]
  },
  {
   "cell_type": "code",
   "execution_count": 2,
   "metadata": {
    "ExecuteTime": {
     "start_time": "2023-04-04T12:26:10.433576Z",
     "end_time": "2023-04-04T12:26:10.449577Z"
    }
   },
   "outputs": [
    {
     "name": "stdout",
     "output_type": "stream",
     "text": [
      "    0  1  2  3\n",
      "xᵢ  1  2  3  4\n",
      "yᵢ  3  1 -1  2\n"
     ]
    }
   ],
   "source": [
    "pts = np.array([[1,3], [2,1], [3, -1], [4, 2]])\n",
    "# Transpozycja tablicy, aby punkty były w kolumnach\n",
    "pts = np.transpose(pts)\n",
    "# Stworzenie DataFrame z punktami w celu wyświetlenia ich w postaci tabeli\n",
    "pts_dataframe = pd.DataFrame(pts, columns = np.arange(len(pts[0])), index = ['xᵢ', 'yᵢ'])\n",
    "print(pts_dataframe)\n",
    "# Przypisanie wartości z listy do zmiennych w celu łatwiejszego ich wykorzystania\n",
    "xi = pts[0]\n",
    "yi = pts[1]"
   ]
  },
  {
   "cell_type": "markdown",
   "metadata": {},
   "source": [
    "### Punkt w którym będziemy szukać wartości wielomianu interpolacyjnego"
   ]
  },
  {
   "cell_type": "code",
   "execution_count": 3,
   "metadata": {
    "ExecuteTime": {
     "start_time": "2023-04-04T12:26:10.449577Z",
     "end_time": "2023-04-04T12:26:10.495575Z"
    }
   },
   "outputs": [],
   "source": [
    "x = 4.25"
   ]
  },
  {
   "cell_type": "markdown",
   "metadata": {},
   "source": [
    "### Krok 1 - Obliczanie liczników wszystkich wielomianów i zapisanie ich do tablicy o nazwie liczniki"
   ]
  },
  {
   "cell_type": "code",
   "execution_count": 4,
   "metadata": {
    "ExecuteTime": {
     "start_time": "2023-04-04T12:26:10.468579Z",
     "end_time": "2023-04-04T12:26:10.501576Z"
    }
   },
   "outputs": [
    {
     "name": "stdout",
     "output_type": "stream",
     "text": [
      "Tablica z licznikami:  [0.703125 1.015625 1.828125 9.140625]\n"
     ]
    }
   ],
   "source": [
    "# Tablica na wyniki\n",
    "liczniki = np.array([])\n",
    "# Iteracja po wszystkich punktach interpolacji - ich indeksach i wartościach\n",
    "for xindex, xx in enumerate(xi):\n",
    "    # Tworzymy maskę logiczną, która wybiera wszystkie elementy poza tym o podanym indeksie\n",
    "    mask = np.arange(len(xi)) != xindex\n",
    "    # Używamy maski do wybrania wszystkich elementów poza tym o podanym indeksie\n",
    "    elements_except_current = xi[mask]\n",
    "    # Obliczamy licznik - jest to iloczyn wyników odejmowania od wartości x wszystkich innych wartości xi poza tym o\n",
    "    # podanym indeksie\n",
    "    top = np.prod(x - elements_except_current)\n",
    "    # Dodajemy licznik do tablicy wyników\n",
    "    liczniki = np.append(liczniki, top)\n",
    "\n",
    "print('Tablica z licznikami: ', liczniki)"
   ]
  },
  {
   "cell_type": "markdown",
   "metadata": {},
   "source": [
    "### Krok 2 - Obliczanie mianowników wszystkich wielomianów i zapisanie ich do tablicy o nazwie mianowniki"
   ]
  },
  {
   "cell_type": "code",
   "execution_count": 5,
   "metadata": {
    "ExecuteTime": {
     "start_time": "2023-04-04T12:26:10.482580Z",
     "end_time": "2023-04-04T12:26:10.501576Z"
    }
   },
   "outputs": [
    {
     "name": "stdout",
     "output_type": "stream",
     "text": [
      "Tablica z mianownikami:  [-6.  2. -2.  6.]\n"
     ]
    }
   ],
   "source": [
    "# Tablica na wyniki\n",
    "mianowniki = np.array([])\n",
    "# Iteracja po wszystkich punktach interpolacji - ich indeksach i wartościach\n",
    "for xindex, xx in enumerate(xi):\n",
    "   # Tworzymy maskę logiczną, która wybiera wszystkie elementy poza tym o podanym indeksie\n",
    "   x_other_than_curr = xi[np.arange(len(xi)) != xindex]\n",
    "   # Obliczamy mianownik - jest to iloczyn wyników odejmowania aktualnej wartości xi od wszystkich innych wartości xi\n",
    "   bottom = np.prod(xx - xi[np.arange(len(xi)) != xindex])\n",
    "    # Dodajemy mianownik do tablicy wyników\n",
    "   mianowniki = np.append(mianowniki, bottom)\n",
    "\n",
    "print('Tablica z mianownikami: ', mianowniki)"
   ]
  },
  {
   "cell_type": "markdown",
   "metadata": {},
   "source": [
    "### Krok 3 - Podzielenie liczników przez mianowniki"
   ]
  },
  {
   "cell_type": "code",
   "execution_count": 6,
   "metadata": {
    "ExecuteTime": {
     "start_time": "2023-04-04T12:26:10.497577Z",
     "end_time": "2023-04-04T12:26:10.512772Z"
    }
   },
   "outputs": [
    {
     "name": "stdout",
     "output_type": "stream",
     "text": [
      "Wyniki dzielenia licznikow przez mianowniki:  [-0.1171875  0.5078125 -0.9140625  1.5234375]\n"
     ]
    }
   ],
   "source": [
    "# Obliczamy wynik dzielenia liczników przez mianowniki\n",
    "wyniki_dzielenia = np.divide(liczniki, mianowniki)\n",
    "print('Wyniki dzielenia licznikow przez mianowniki: ', wyniki_dzielenia)"
   ]
  },
  {
   "cell_type": "markdown",
   "metadata": {},
   "source": [
    "### Krok 4 - Pomnożenie wyników z kroku 3 przez wartości funkcji w węzłach interpolacji"
   ]
  },
  {
   "cell_type": "code",
   "execution_count": 7,
   "metadata": {
    "ExecuteTime": {
     "start_time": "2023-04-04T12:26:10.512772Z",
     "end_time": "2023-04-04T12:26:10.573772Z"
    },
    "collapsed": false,
    "jupyter": {
     "outputs_hidden": false
    }
   },
   "outputs": [
    {
     "name": "stdout",
     "output_type": "stream",
     "text": [
      "poszczegolne_skladniki [-0.3515625  0.5078125  0.9140625  3.046875 ]\n"
     ]
    }
   ],
   "source": [
    "poszczegolne_skladniki = (yi * wyniki_dzielenia)\n",
    "print('poszczegolne_skladniki', poszczegolne_skladniki)"
   ]
  },
  {
   "cell_type": "markdown",
   "metadata": {},
   "source": [
    "### Krok 5 - Sumowanie wszystkich wyników z kroku 4"
   ]
  },
  {
   "cell_type": "code",
   "execution_count": 8,
   "metadata": {
    "ExecuteTime": {
     "start_time": "2023-04-04T12:26:10.528773Z",
     "end_time": "2023-04-04T12:26:10.583773Z"
    },
    "collapsed": false,
    "jupyter": {
     "outputs_hidden": false
    }
   },
   "outputs": [],
   "source": [
    "wartosc_wielomianu = np.sum(poszczegolne_skladniki)"
   ]
  },
  {
   "cell_type": "markdown",
   "metadata": {},
   "source": [
    "### Krok 6 - Wyświetlenie wartości wielomianu interpolacyjnego w punkcie x"
   ]
  },
  {
   "cell_type": "code",
   "execution_count": 9,
   "metadata": {
    "ExecuteTime": {
     "start_time": "2023-04-04T12:26:10.544773Z",
     "end_time": "2023-04-04T12:26:10.583773Z"
    }
   },
   "outputs": [
    {
     "name": "stdout",
     "output_type": "stream",
     "text": [
      "Wartość wielomianu interpolacyjnego w punkcie x =  4.25  wynosi:  4.1171875\n"
     ]
    }
   ],
   "source": [
    "print('Wartość wielomianu interpolacyjnego w punkcie x = ', x, ' wynosi: ', wartosc_wielomianu)"
   ]
  },
  {
   "cell_type": "markdown",
   "metadata": {},
   "source": [
    "## Stworzenie ogólnej funkcji obliczającej wartość wielomianu interpolacyjnego w punkcie x"
   ]
  },
  {
   "cell_type": "code",
   "execution_count": 10,
   "metadata": {
    "ExecuteTime": {
     "start_time": "2023-04-04T12:26:10.564775Z",
     "end_time": "2023-04-04T12:26:10.584775Z"
    },
    "collapsed": false,
    "jupyter": {
     "outputs_hidden": false
    }
   },
   "outputs": [],
   "source": [
    "def lagrange(coordinates_list: list[tuple[int, int]], x):\n",
    "    pts = np.array(coordinates_list)\n",
    "    # Transpozycja tablicy, aby punkty były w kolumnach\n",
    "    pts = np.transpose(pts)\n",
    "    # Przypisanie wartości z listy do zmiennych w celu łatwiejszego ich wykorzystania\n",
    "    xi = pts[0]\n",
    "    yi = pts[1]\n",
    "\n",
    "    # Tablica na wyniki\n",
    "    nominators = np.array([])\n",
    "    # Iteracja po wszystkich punktach interpolacji - ich indeksach i wartościach\n",
    "    for xindex, xx in enumerate(xi):\n",
    "        # Tworzymy maskę logiczną, która wybiera wszystkie elementy poza tym o podanym indeksie\n",
    "        mask = np.arange(len(xi)) != xindex\n",
    "        # Używamy maski do wybrania wszystkich elementów poza tym o podanym indeksie\n",
    "        elements_except_current = xi[mask]\n",
    "        # Obliczamy licznik - jest to iloczyn wyników odejmowania od wartości x wszystkich innych wartości xi poza tym o\n",
    "        # podanym indeksie\n",
    "        top = np.prod(x - elements_except_current)\n",
    "        # Dodajemy licznik do tablicy wyników\n",
    "        nominators = np.append(nominators, top)\n",
    "\n",
    "    # Tablica na wyniki\n",
    "    denominators = np.array([])\n",
    "    # Iteracja po wszystkich punktach interpolacji - ich indeksach i wartościach\n",
    "    for xindex, xx in enumerate(xi):\n",
    "       # Tworzymy maskę logiczną, która wybiera wszystkie elementy poza tym o podanym indeksie\n",
    "       x_other_than_curr = xi[np.arange(len(xi)) != xindex]\n",
    "       # Obliczamy mianownik - jest to iloczyn wyników odejmowania aktualnej wartości xi od wszystkich innych wartości xi\n",
    "       bottom = np.prod(xx - xi[np.arange(len(xi)) != xindex])\n",
    "        # Dodajemy mianownik do tablicy wyników\n",
    "       denominators = np.append(denominators, bottom)\n",
    "\n",
    "    division_result = np.divide(nominators, denominators)\n",
    "    terms = (yi * division_result)\n",
    "    return np.sum(terms)"
   ]
  },
  {
   "cell_type": "markdown",
   "metadata": {},
   "source": [
    "### Wywołanie funkcji i sprawdzenie poprawności działania"
   ]
  },
  {
   "cell_type": "code",
   "execution_count": 11,
   "metadata": {
    "ExecuteTime": {
     "start_time": "2023-04-04T12:26:10.575774Z",
     "end_time": "2023-04-04T12:26:10.591774Z"
    },
    "collapsed": false,
    "jupyter": {
     "outputs_hidden": false
    }
   },
   "outputs": [
    {
     "name": "stdout",
     "output_type": "stream",
     "text": [
      "Wartość wielomianu interpolacyjnego w punkcie x =  4  wynosi:  2.0\n"
     ]
    }
   ],
   "source": [
    "x = 4\n",
    "coords = [[1,3], [2,1], [3, -1], [4, 2]]\n",
    "print('Wartość wielomianu interpolacyjnego w punkcie x = ', x, ' wynosi: ', lagrange(coords, 4))"
   ]
  },
  {
   "cell_type": "markdown",
   "metadata": {},
   "source": [
    "## Użycie biblioteki symPy w celu obliczenia wzoru na wielomian interpolacyjny\n",
    "\n",
    "Biblioteka ta pozwala na podstawienie wartości symboli w wyrażeniu matematycznym, a także na wyświetlenie tego\n",
    "wyrażenia w postaci uproszczonego wzoru matematycznego."
   ]
  },
  {
   "cell_type": "code",
   "execution_count": 12,
   "metadata": {
    "ExecuteTime": {
     "start_time": "2023-04-04T12:26:10.591774Z",
     "end_time": "2023-04-04T12:26:10.987413Z"
    },
    "tags": []
   },
   "outputs": [],
   "source": [
    "import sympy as sp\n",
    "# Przypisujemy do zmiennej x symbol matematyczny\n",
    "x = sp.symbols('x')\n",
    "# Zamiast wywoływać funkcję lagrange, która zwraca wartość wielomianu interpolacyjnego w punkcie x,\n",
    "# zwracamy wyrażenie matematyczne, które jest wielomianem interpolacyjnym\n",
    "wyn = lagrange(coords, x)\n",
    "sp.simplify(wyn)\n",
    "\n",
    "# definicja funkcji, która zwraca wzór wielomianu interpolacyjnego\n",
    "def lagrange_polynomial(coordinates_list: list[tuple[int, int]]):\n",
    "    return sp.simplify(lagrange(coordinates_list, x))"
   ]
  },
  {
   "cell_type": "markdown",
   "metadata": {},
   "source": [
    "## Wyświetlenie wykresu wielomianu interpolacyjnego"
   ]
  },
  {
   "cell_type": "code",
   "execution_count": 13,
   "metadata": {
    "ExecuteTime": {
     "start_time": "2023-04-04T12:26:10.990453Z",
     "end_time": "2023-04-04T12:26:11.416946Z"
    }
   },
   "outputs": [
    {
     "data": {
      "text/plain": "<Figure size 640x480 with 1 Axes>",
      "image/png": "[encoded data removed]"
     },
     "metadata": {},
     "output_type": "display_data"
    }
   ],
   "source": [
    "from sympy.plotting.plot import MatplotlibBackend, Plot\n",
    "\n",
    "# funkcja zwracająca wykres z biblioteki sympy\n",
    "# Używana z powodu konieczności połączenia wielu wykresów w jeden\n",
    "def get_sympy_subplots(plot:Plot):\n",
    "    backend = MatplotlibBackend(plot)\n",
    "\n",
    "    backend.process_series()\n",
    "    backend.fig.tight_layout()\n",
    "    return backend.fig, backend.ax[0]\n",
    "\n",
    "p1 = sp.plot(wyn, (x, -1, 5),  show=False, line_color='red')\n",
    "p1.title = 'Wielomian interpolacyjny'\n",
    "p1.margin = 0.2\n",
    "fig, axe = get_sympy_subplots(p1)\n",
    "# Dodatkowe wykresy-tu punkty interpolacji\n",
    "axe.plot(xi, yi, \"o\")\n",
    "axe.grid()\n",
    "\n"
   ]
  },
  {
   "cell_type": "code",
   "execution_count": 14,
   "metadata": {
    "ExecuteTime": {
     "start_time": "2023-04-04T12:26:11.419100Z",
     "end_time": "2023-04-04T12:26:11.432877Z"
    },
    "collapsed": false,
    "jupyter": {
     "outputs_hidden": false
    }
   },
   "outputs": [
    {
     "name": "stdout",
     "output_type": "stream",
     "text": [
      "17.0\n"
     ]
    }
   ],
   "source": [
    "print(lagrange([[5,12], [6,13], [7,14], [8,15]], 10))"
   ]
  },
  {
   "cell_type": "code",
   "execution_count": 15,
   "metadata": {
    "ExecuteTime": {
     "start_time": "2023-04-04T12:26:11.433877Z",
     "end_time": "2023-04-04T12:26:11.565936Z"
    },
    "collapsed": false,
    "jupyter": {
     "outputs_hidden": false
    }
   },
   "outputs": [
    {
     "data": {
      "text/plain": "<Figure size 640x480 with 1 Axes>",
      "image/png": "[encoded data removed]"
     },
     "metadata": {},
     "output_type": "display_data"
    },
    {
     "data": {
      "text/plain": "<sympy.plotting.plot.Plot at 0x229bfc90cd0>"
     },
     "execution_count": 15,
     "metadata": {},
     "output_type": "execute_result"
    }
   ],
   "source": [
    "sp.plot(lagrange_polynomial([[1,2], [3,4]]))"
   ]
  },
  {
   "cell_type": "code",
   "execution_count": 15,
   "metadata": {
    "ExecuteTime": {
     "start_time": "2023-04-04T12:26:11.562939Z",
     "end_time": "2023-04-04T12:26:11.607936Z"
    },
    "collapsed": false,
    "jupyter": {
     "outputs_hidden": false
    }
   },
   "outputs": [],
   "source": []
  }
 ],
 "metadata": {
  "kernelspec": {
   "display_name": "Python 3 (ipykernel)",
   "language": "python",
   "name": "python3"
  },
  "language_info": {
   "codemirror_mode": {
    "name": "ipython",
    "version": 3
   },
   "file_extension": ".py",
   "mimetype": "text/x-python",
   "name": "python",
   "nbconvert_exporter": "python",
   "pygments_lexer": "ipython3",
   "version": "3.10.4"
  }
 },
 "nbformat": 4,
 "nbformat_minor": 4
}
