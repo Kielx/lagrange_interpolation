{
 "cells": [
  {
   "cell_type": "code",
   "execution_count": 73,
   "outputs": [],
   "source": [
    "import numpy as np"
   ],
   "metadata": {
    "collapsed": false,
    "ExecuteTime": {
     "start_time": "2023-04-03T10:43:34.389477Z",
     "end_time": "2023-04-03T10:43:34.413732Z"
    }
   }
  },
  {
   "cell_type": "markdown",
   "source": [
    "### Lista zawierająca punkty pomiarowe stanowiące podstawę obliczeń"
   ],
   "metadata": {
    "collapsed": false
   }
  },
  {
   "cell_type": "code",
   "execution_count": 74,
   "outputs": [
    {
     "data": {
      "text/plain": "array([[ 1,  2,  3,  4],\n       [ 3,  1, -1,  2]])"
     },
     "execution_count": 74,
     "metadata": {},
     "output_type": "execute_result"
    }
   ],
   "source": [
    "pts = np.array([[1,3], [2,1], [3, -1], [4, 2]])\n",
    "pts = np.transpose(pts)\n",
    "pts"
   ],
   "metadata": {
    "collapsed": false,
    "ExecuteTime": {
     "start_time": "2023-04-03T10:43:34.402625Z",
     "end_time": "2023-04-03T10:43:34.433740Z"
    }
   }
  },
  {
   "cell_type": "markdown",
   "source": [
    "### Punkt w którym będziemy szukać wartości wielomianu interpolacyjnego"
   ],
   "metadata": {
    "collapsed": false
   }
  },
  {
   "cell_type": "code",
   "execution_count": 75,
   "outputs": [],
   "source": [
    "x = 6"
   ],
   "metadata": {
    "collapsed": false,
    "ExecuteTime": {
     "start_time": "2023-04-03T10:43:34.414741Z",
     "end_time": "2023-04-03T10:43:34.434740Z"
    }
   }
  },
  {
   "cell_type": "markdown",
   "source": [
    "### Przypisanie wartości z listy do zmiennych w celu łatwiejszego ich wykorzystania"
   ],
   "metadata": {
    "collapsed": false
   }
  },
  {
   "cell_type": "code",
   "execution_count": 76,
   "outputs": [
    {
     "name": "stdout",
     "output_type": "stream",
     "text": [
      "i  =  [0 1 2 3]\n",
      "Xj =  [1 2 3 4]\n",
      "Yj =  [ 3  1 -1  2]\n"
     ]
    }
   ],
   "source": [
    "xj = pts[0]\n",
    "yj = pts[1]\n",
    "print('i  = ', np.arange(len(xj)))\n",
    "print ('Xj = ', xj)\n",
    "print ('Yj = ', yj)"
   ],
   "metadata": {
    "collapsed": false,
    "ExecuteTime": {
     "start_time": "2023-04-03T10:43:34.432740Z",
     "end_time": "2023-04-03T10:43:34.447077Z"
    }
   }
  },
  {
   "cell_type": "markdown",
   "source": [
    "### Obliczanie liczników wszysktich wielomianów i zapisanie ich do tablicy o nazwie tops"
   ],
   "metadata": {
    "collapsed": false
   }
  },
  {
   "cell_type": "code",
   "execution_count": 77,
   "outputs": [
    {
     "name": "stdout",
     "output_type": "stream",
     "text": [
      "[24. 30. 40. 60.]\n"
     ]
    }
   ],
   "source": [
    "tops = np.array([])\n",
    "for xindex, xx in enumerate(xj):\n",
    "    # Create a boolean mask to select all elements except for the one at the specified index\n",
    "    mask = np.arange(len(xj)) != xindex\n",
    "    # Use the boolean mask to select the elements we want\n",
    "    elements_except_current = xj[mask]\n",
    "    top = np.prod(x - elements_except_current)\n",
    "    tops = np.append(tops, top)\n",
    "\n",
    "print(tops)"
   ],
   "metadata": {
    "collapsed": false,
    "ExecuteTime": {
     "start_time": "2023-04-03T10:43:34.446080Z",
     "end_time": "2023-04-03T10:43:34.491565Z"
    }
   }
  },
  {
   "cell_type": "markdown",
   "source": [
    "### Obliczanie mianowników wszystkich wielomianów i zapisanie ich do tablicy o nazwie bottoms"
   ],
   "metadata": {
    "collapsed": false
   }
  },
  {
   "cell_type": "code",
   "execution_count": 78,
   "outputs": [
    {
     "name": "stdout",
     "output_type": "stream",
     "text": [
      "[-6.  2. -2.  6.]\n"
     ]
    }
   ],
   "source": [
    "bottoms = np.array([])\n",
    "for xindex, xx in enumerate(xj):\n",
    "   x_other_than_curr = xj[np.arange(len(xj)) != xindex]\n",
    "   bottom = np.prod(xx - xj[np.arange(len(xj)) != xindex])\n",
    "   bottoms = np.append(bottoms, bottom)\n",
    "print(bottoms)"
   ],
   "metadata": {
    "collapsed": false,
    "ExecuteTime": {
     "start_time": "2023-04-03T10:43:34.464557Z",
     "end_time": "2023-04-03T10:43:34.498570Z"
    }
   }
  },
  {
   "cell_type": "code",
   "execution_count": 79,
   "outputs": [
    {
     "name": "stdout",
     "output_type": "stream",
     "text": [
      "tops [24. 30. 40. 60.]\n",
      "bottoms [-6.  2. -2.  6.]\n",
      "poszczegolne_skladniki [-12.  15.  20.  20.]\n",
      "suma 43.0\n"
     ]
    }
   ],
   "source": [
    "print('tops', tops)\n",
    "print('bottoms', bottoms)\n",
    "division = np.divide(tops, bottoms)\n",
    "poszczegolne_skladniki = (yj*division)\n",
    "print('poszczegolne_skladniki', poszczegolne_skladniki)\n",
    "print('suma', np.sum(poszczegolne_skladniki))"
   ],
   "metadata": {
    "collapsed": false,
    "ExecuteTime": {
     "start_time": "2023-04-03T10:43:34.478566Z",
     "end_time": "2023-04-03T10:43:34.498570Z"
    }
   }
  },
  {
   "cell_type": "markdown",
   "source": [
    "### Wyświetlenie wartości wielomianu interpolacyjnego w punkcie x"
   ],
   "metadata": {
    "collapsed": false
   }
  },
  {
   "cell_type": "code",
   "execution_count": 80,
   "outputs": [
    {
     "name": "stdout",
     "output_type": "stream",
     "text": [
      "Wartość wielomianu interpolacyjnego w punkcie x =  6  wynosi:  43.0\n"
     ]
    }
   ],
   "source": [
    "print('Wartość wielomianu interpolacyjnego w punkcie x = ', x, ' wynosi: ', np.sum(poszczegolne_skladniki))"
   ],
   "metadata": {
    "collapsed": false,
    "ExecuteTime": {
     "start_time": "2023-04-03T10:43:34.493566Z",
     "end_time": "2023-04-03T10:43:34.515570Z"
    }
   }
  }
 ],
 "metadata": {
  "kernelspec": {
   "display_name": "Python 3",
   "language": "python",
   "name": "python3"
  },
  "language_info": {
   "codemirror_mode": {
    "name": "ipython",
    "version": 2
   },
   "file_extension": ".py",
   "mimetype": "text/x-python",
   "name": "python",
   "nbconvert_exporter": "python",
   "pygments_lexer": "ipython2",
   "version": "2.7.6"
  }
 },
 "nbformat": 4,
 "nbformat_minor": 0
}
