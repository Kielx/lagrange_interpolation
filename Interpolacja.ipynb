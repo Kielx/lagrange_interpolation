{
 "cells": [
  {
   "cell_type": "code",
   "execution_count": 9,
   "outputs": [],
   "source": [
    "import numpy as np"
   ],
   "metadata": {
    "collapsed": false
   }
  },
  {
   "cell_type": "code",
   "execution_count": 10,
   "outputs": [
    {
     "data": {
      "text/plain": "array([[ 1,  2,  3,  4],\n       [ 3,  1, -1,  2]])"
     },
     "execution_count": 10,
     "metadata": {},
     "output_type": "execute_result"
    }
   ],
   "source": [
    "pts = np.array([[1,3], [2,1], [3, -1], [4, 2]])\n",
    "pts = np.transpose(pts)\n",
    "pts"
   ],
   "metadata": {
    "collapsed": false
   }
  },
  {
   "cell_type": "code",
   "execution_count": 11,
   "outputs": [],
   "source": [
    "x = 4"
   ],
   "metadata": {
    "collapsed": false
   }
  },
  {
   "cell_type": "code",
   "execution_count": 12,
   "outputs": [
    {
     "name": "stdout",
     "output_type": "stream",
     "text": [
      "2\n",
      "1\n"
     ]
    }
   ],
   "source": [
    "for i in range(len(pts)):\n",
    "    print(pts[i][1])"
   ],
   "metadata": {
    "collapsed": false
   }
  },
  {
   "cell_type": "code",
   "execution_count": 13,
   "outputs": [
    {
     "name": "stdout",
     "output_type": "stream",
     "text": [
      "-0.0\n"
     ]
    }
   ],
   "source": [
    "\n",
    "    xj = pts[0]\n",
    "    yj = pts[1]\n",
    "\n",
    "    pierwszy_skladnik = yj[0] * (\n",
    "            ( (x-xj[1]) * (x-xj[2]) * (x-xj[3]) )\n",
    "            /\n",
    "            ( (xj[0] - xj[1]) * (xj[0] - xj[2]) * (xj[0] - xj[3]) )\n",
    "                                 )\n",
    "    print(pierwszy_skladnik)"
   ],
   "metadata": {
    "collapsed": false
   }
  },
  {
   "cell_type": "code",
   "execution_count": 14,
   "outputs": [
    {
     "name": "stdout",
     "output_type": "stream",
     "text": [
      "[2 3 4]\n",
      "top is  0\n",
      "[1 3 4]\n",
      "top is  0\n",
      "[1 2 4]\n",
      "top is  0\n",
      "[1 2 3]\n",
      "top is  6\n",
      "[0. 0. 0. 6.]\n"
     ]
    }
   ],
   "source": [
    "tops = np.array([])\n",
    "for xindex, xx in enumerate(xj):\n",
    "    # Create a boolean mask to select all elements except for the one at the specified index\n",
    "    mask = np.arange(len(xj)) != xindex\n",
    "\n",
    "    # Use the boolean mask to select the elements we want\n",
    "    elements_except_current = xj[mask]\n",
    "    print(elements_except_current)\n",
    "    top = np.prod(x - elements_except_current)\n",
    "    print('top is ', top)\n",
    "    tops = np.append(tops, top)\n",
    "\n",
    "print(tops)"
   ],
   "metadata": {
    "collapsed": false
   }
  },
  {
   "cell_type": "code",
   "execution_count": 15,
   "outputs": [
    {
     "name": "stdout",
     "output_type": "stream",
     "text": [
      "1\n",
      "[2 3 4]\n",
      "-6\n",
      "2\n",
      "[1 3 4]\n",
      "2\n",
      "3\n",
      "[1 2 4]\n",
      "-2\n",
      "4\n",
      "[1 2 3]\n",
      "6\n",
      "[-6.  2. -2.  6.]\n"
     ]
    }
   ],
   "source": [
    "bottoms = np.array([])\n",
    "for xindex, xx in enumerate(xj):\n",
    "   print(xx)\n",
    "   x_other_than_curr = xj[np.arange(len(xj)) != xindex]\n",
    "   print(x_other_than_curr)\n",
    "   bottom = np.prod(xx - xj[np.arange(len(xj)) != xindex])\n",
    "   print(bottom)\n",
    "   bottoms = np.append(bottoms, bottom)\n",
    "print(bottoms)"
   ],
   "metadata": {
    "collapsed": false
   }
  },
  {
   "cell_type": "code",
   "execution_count": 16,
   "outputs": [
    {
     "name": "stdout",
     "output_type": "stream",
     "text": [
      "tops [0. 0. 0. 6.]\n",
      "bottoms [-6.  2. -2.  6.]\n",
      "[-0.  0. -0.  1.]\n",
      "[-0.  0.  0.  2.]\n"
     ]
    }
   ],
   "source": [
    "print('tops', tops)\n",
    "print('bottoms', bottoms)\n",
    "print(tops/bottoms)\n",
    "division = np.divide(tops, bottoms)\n",
    "print(yj*division)\n",
    "\n",
    "\n"
   ],
   "metadata": {
    "collapsed": false
   }
  },
  {
   "cell_type": "code",
   "execution_count": 16,
   "outputs": [],
   "source": [],
   "metadata": {
    "collapsed": false
   }
  },
  {
   "cell_type": "code",
   "execution_count": 16,
   "outputs": [],
   "source": [],
   "metadata": {
    "collapsed": false
   }
  }
 ],
 "metadata": {
  "kernelspec": {
   "display_name": "Python 3",
   "language": "python",
   "name": "python3"
  },
  "language_info": {
   "codemirror_mode": {
    "name": "ipython",
    "version": 2
   },
   "file_extension": ".py",
   "mimetype": "text/x-python",
   "name": "python",
   "nbconvert_exporter": "python",
   "pygments_lexer": "ipython2",
   "version": "2.7.6"
  }
 },
 "nbformat": 4,
 "nbformat_minor": 0
}
