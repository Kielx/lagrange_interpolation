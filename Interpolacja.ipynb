{
 "cells": [
  {
   "cell_type": "markdown",
   "source": [
    "# Obliczanie wartości wielomianu interpolacyjnego metodą Lagrange'a\n",
    "\n",
    "Interpolacja to proces szacowania wartości funkcji w punktach pośrednich na podstawie znanych wartości tej funkcji w\n",
    "innych punktach. W tym procesie szuka się funkcji, która najlepiej \"wpasuje\" się w zadane punkty i umożliwi szacowanie wartości funkcji w dowolnym miejscu. Najczęściej stosowaną metodą interpolacji jest interpolacja wielomianowa, polegająca na znalezieniu wielomianu, który przechodzi przez zadane punkty. Interpolacja jest stosowana w wielu dziedzinach, m.in. w matematyce, fizyce, ekonomii czy inżynierii, do analizy danych, aproksymacji funkcji i modelowania zjawisk. Metoda Lagrange'a jest jedną z popularnych metod numerycznych służących do interpolacji funkcji za pomocą wielomianu."
   ],
   "metadata": {
    "collapsed": false
   }
  },
  {
   "cell_type": "markdown",
   "source": [
    "## Wstęp - Kroki obliczeń\n",
    "\n",
    "Ogólna postać wielomianu interpolacyjnego Lagrange'a wygląda następująco:\n",
    "\n",
    "![Wzor ogolny](assets/1.png)\n",
    "\n",
    "Dla 4 punktów wzór interpolacyjny Lagrange'a wygląda następująco:\n",
    "\n",
    "![Wzor dla 4 punktow](assets/2.png)\n",
    "\n",
    "Powyższy wzór można podzielić na kroki, które są łatwiejsze do zrozumienia i wykonania. Uzyskane wyniki\n",
    "poszczególnych kroków następnie przechowujemy w tablicach, by później wykonać na nich odpowiednie operacje. Ułatwia to\n",
    "zrozumienie procesu oraz umożliwia jego prostą implementację w dowolnym języku programowania.\n",
    "\n",
    "Poszczególne kroki obliczeń można przedstawić w następujący sposób (tu dla 4 punktów):"
   ],
   "metadata": {
    "collapsed": false
   }
  },
  {
   "cell_type": "markdown",
   "source": [
    "### 1. Obliczanie liczników wszystkich wielomianów interpolacyjnych oraz zapisanie ich w tablicy\n",
    "\n",
    "![Obliczanie licznikow](assets/3.png)"
   ],
   "metadata": {
    "collapsed": false
   }
  },
  {
   "cell_type": "markdown",
   "source": [
    "### 2. Obliczanie mianowników wszystkich wielomianów interpolacyjnych oraz zapisanie ich w tablicy\n",
    "\n",
    "![Obliczanie mianownikow](assets/4.png)"
   ],
   "metadata": {
    "collapsed": false
   }
  },
  {
   "cell_type": "markdown",
   "source": [
    "### 3. Podzielenie liczników przez mianowniki\n",
    "\n",
    "![Podzielenie licznikow przez mianowniki](assets/5.png)"
   ],
   "metadata": {
    "collapsed": false
   }
  },
  {
   "cell_type": "markdown",
   "source": [
    "### 4. Pomnożenie wyników z kroku 3 przez wartości funkcji w węzłach interpolacji\n",
    "\n",
    "![Pomnozenie wynikow z kroku 3 przez wartosci funkcji w wezlach interpolacji](assets/6.png)"
   ],
   "metadata": {
    "collapsed": false
   }
  },
  {
   "cell_type": "markdown",
   "source": [
    "### 5. Sumowanie wszystkich wyników z kroku 4\n",
    "\n",
    "![Sumowanie wszystkich wynikow z kroku 4](assets/7.png)"
   ],
   "metadata": {
    "collapsed": false
   }
  },
  {
   "cell_type": "markdown",
   "source": [
    "### 6. Wartość wielomianu interpolacyjnego w punkcie x wynosi sumę z kroku 5\n",
    "\n",
    "Wyświetlenie wyniku."
   ],
   "metadata": {
    "collapsed": false
   }
  },
  {
   "cell_type": "markdown",
   "source": [
    "## Przykład implementacji metody kroków dla 4 punktów interpolacji w języku Python"
   ],
   "metadata": {
    "collapsed": false
   }
  },
  {
   "cell_type": "markdown",
   "source": [
    "### <a name=\"import-bibliotek\"></a>Import bibliotek"
   ],
   "metadata": {
    "collapsed": false
   }
  },
  {
   "cell_type": "code",
   "execution_count": 104,
   "metadata": {
    "ExecuteTime": {
     "start_time": "2023-04-03T15:01:45.601935Z",
     "end_time": "2023-04-03T15:01:45.622462Z"
    }
   },
   "outputs": [],
   "source": [
    "import numpy as np\n",
    "import pandas as pd"
   ]
  },
  {
   "cell_type": "markdown",
   "metadata": {},
   "source": [
    "### Lista zawierająca punkty pomiarowe stanowiące podstawę obliczeń"
   ]
  },
  {
   "cell_type": "code",
   "execution_count": 105,
   "metadata": {
    "ExecuteTime": {
     "start_time": "2023-04-03T15:01:45.618935Z",
     "end_time": "2023-04-03T15:01:45.649465Z"
    }
   },
   "outputs": [],
   "source": [
    "pts = np.array([[1,3], [2,1], [3, -1], [4, 2]])\n",
    "# Transpozycja tablicy, aby punkty były w kolumnach\n",
    "pts = np.transpose(pts)\n",
    "# Stworzenie DataFrame z punktami dla lepszego wyświetlenia\n",
    "pts_dataframe = pd.DataFrame(pts, columns = np.arange(len(pts[0])), index = ['xᵢ', 'yᵢ'])\n",
    "pts_dataframe\n",
    "# Przypisanie wartości z listy do zmiennych w celu łatwiejszego ich wykorzystania\n",
    "xi = pts[0]\n",
    "yi = pts[1]"
   ]
  },
  {
   "cell_type": "markdown",
   "metadata": {},
   "source": [
    "### Punkt w którym będziemy szukać wartości wielomianu interpolacyjnego"
   ]
  },
  {
   "cell_type": "code",
   "execution_count": 106,
   "metadata": {
    "ExecuteTime": {
     "start_time": "2023-04-03T15:01:45.633462Z",
     "end_time": "2023-04-03T15:01:45.650465Z"
    }
   },
   "outputs": [],
   "source": [
    "x = 10"
   ]
  },
  {
   "cell_type": "markdown",
   "metadata": {},
   "source": [
    "### Krok 1 - Obliczanie liczników wszysktich wielomianów i zapisanie ich do tablicy o nazwie liczniki"
   ]
  },
  {
   "cell_type": "code",
   "execution_count": 107,
   "metadata": {
    "ExecuteTime": {
     "start_time": "2023-04-03T15:01:45.651461Z",
     "end_time": "2023-04-03T15:01:45.666460Z"
    }
   },
   "outputs": [
    {
     "name": "stdout",
     "output_type": "stream",
     "text": [
      "Tablica z licznikami:  [336. 378. 432. 504.]\n"
     ]
    }
   ],
   "source": [
    "# Tablica na wyniki\n",
    "liczniki = np.array([])\n",
    "# Iteracja po wszystkich punktach interpolacji - ich indeksach i wartościach\n",
    "for xindex, xx in enumerate(xi):\n",
    "    # Tworzymy maskę logiczną, która wybiera wszystkie elementy poza tym o podanym indeksie\n",
    "    mask = np.arange(len(xi)) != xindex\n",
    "    # Używamy maski do wybrania wszystkich elementów poza tym o podanym indeksie\n",
    "    elements_except_current = xi[mask]\n",
    "    # Obliczamy licznik - jest to iloczyn wyników odejmowania od wartości x wszystkich innych wartości xi poza tym o\n",
    "    # podanym indeksie\n",
    "    top = np.prod(x - elements_except_current)\n",
    "    # Dodajemy licznik do tablicy wyników\n",
    "    liczniki = np.append(liczniki, top)\n",
    "\n",
    "print('Tablica z licznikami: ', liczniki)"
   ]
  },
  {
   "cell_type": "markdown",
   "metadata": {},
   "source": [
    "### Krok 2 - Obliczanie mianowników wszystkich wielomianów i zapisanie ich do tablicy o nazwie mianowniki"
   ]
  },
  {
   "cell_type": "code",
   "execution_count": 117,
   "metadata": {
    "ExecuteTime": {
     "start_time": "2023-04-03T15:05:11.379495Z",
     "end_time": "2023-04-03T15:05:11.400494Z"
    }
   },
   "outputs": [
    {
     "name": "stdout",
     "output_type": "stream",
     "text": [
      "Tablica z mianownikami:  [-6.  2. -2.  6.]\n"
     ]
    }
   ],
   "source": [
    "# Tablica na wyniki\n",
    "mianowniki = np.array([])\n",
    "# Iteracja po wszystkich punktach interpolacji - ich indeksach i wartościach\n",
    "for xindex, xx in enumerate(xi):\n",
    "   # Tworzymy maskę logiczną, która wybiera wszystkie elementy poza tym o podanym indeksie\n",
    "   x_other_than_curr = xi[np.arange(len(xi)) != xindex]\n",
    "   # Obliczamy mianownik - jest to iloczyn wyników odejmowania aktualnej wartości xi od wszystkich innych wartości xi\n",
    "   bottom = np.prod(xx - xi[np.arange(len(xi)) != xindex])\n",
    "    # Dodajemy mianownik do tablicy wyników\n",
    "   mianowniki = np.append(mianowniki, bottom)\n",
    "\n",
    "print('Tablica z mianownikami: ', mianowniki)"
   ]
  },
  {
   "cell_type": "markdown",
   "source": [
    "### Krok 3 - Podzielenie liczników przez mianowniki"
   ],
   "metadata": {
    "collapsed": false
   }
  },
  {
   "cell_type": "code",
   "execution_count": 109,
   "metadata": {
    "ExecuteTime": {
     "start_time": "2023-04-03T15:01:45.681462Z",
     "end_time": "2023-04-03T15:01:45.715760Z"
    }
   },
   "outputs": [
    {
     "name": "stdout",
     "output_type": "stream",
     "text": [
      "tops [336. 378. 432. 504.]\n",
      "bottoms [-6.  2. -2.  6.]\n",
      "poszczegolne_skladniki [-168.  189.  216.  168.]\n",
      "suma 405.0\n"
     ]
    }
   ],
   "source": [
    "# Obliczamy wynik dzielenia liczników przez mianowniki\n",
    "wyniki_dzielenia = np.divide(liczniki, mianowniki)"
   ]
  },
  {
   "cell_type": "markdown",
   "source": [
    "### Krok 4 - Pomnożenie wyników z kroku 3 przez wartości funkcji w węzłach interpolacji"
   ],
   "metadata": {
    "collapsed": false
   }
  },
  {
   "cell_type": "code",
   "execution_count": null,
   "outputs": [],
   "source": [
    "poszczegolne_skladniki = (yi * wyniki_dzielenia)\n",
    "print('poszczegolne_skladniki', poszczegolne_skladniki)"
   ],
   "metadata": {
    "collapsed": false
   }
  },
  {
   "cell_type": "code",
   "execution_count": null,
   "outputs": [],
   "source": [],
   "metadata": {
    "collapsed": false
   }
  },
  {
   "cell_type": "markdown",
   "metadata": {},
   "source": [
    "### Wyświetlenie wartości wielomianu interpolacyjnego w punkcie x"
   ]
  },
  {
   "cell_type": "code",
   "execution_count": 110,
   "metadata": {
    "ExecuteTime": {
     "start_time": "2023-04-03T15:01:45.696462Z",
     "end_time": "2023-04-03T15:01:45.715760Z"
    }
   },
   "outputs": [
    {
     "name": "stdout",
     "output_type": "stream",
     "text": [
      "Wartość wielomianu interpolacyjnego w punkcie x =  10  wynosi:  405.0\n"
     ]
    }
   ],
   "source": [
    "print('Wartość wielomianu interpolacyjnego w punkcie x = ', x, ' wynosi: ', np.sum(poszczegolne_skladniki))"
   ]
  },
  {
   "cell_type": "code",
   "execution_count": 111,
   "metadata": {
    "ExecuteTime": {
     "start_time": "2023-04-03T15:01:45.711652Z",
     "end_time": "2023-04-03T15:01:45.726084Z"
    }
   },
   "outputs": [],
   "source": [
    "from sympy import symbols, simplify"
   ]
  },
  {
   "cell_type": "code",
   "execution_count": 112,
   "metadata": {
    "ExecuteTime": {
     "start_time": "2023-04-03T15:01:45.727085Z",
     "end_time": "2023-04-03T15:01:45.770651Z"
    }
   },
   "outputs": [],
   "source": [
    "x = symbols('x')"
   ]
  },
  {
   "cell_type": "code",
   "execution_count": 113,
   "metadata": {
    "ExecuteTime": {
     "start_time": "2023-04-03T15:01:45.745661Z",
     "end_time": "2023-04-03T15:01:45.787214Z"
    }
   },
   "outputs": [
    {
     "name": "stdout",
     "output_type": "stream",
     "text": [
      "[(x - 4)*(x - 3)*(x - 2) (x - 4)*(x - 3)*(x - 1) (x - 4)*(x - 2)*(x - 1)\n",
      " (x - 3)*(x - 2)*(x - 1)]\n",
      "[(x - 4)*(x - 3)*(x - 2), (x - 4)*(x - 3)*(x - 1), (x - 4)*(x - 2)*(x - 1), (x - 3)*(x - 2)*(x - 1)]\n"
     ]
    }
   ],
   "source": [
    "liczniki = np.array([])\n",
    "for xindex, xx in enumerate(xi):\n",
    "    # Create a boolean mask to select all elements except for the one at the specified index\n",
    "    mask = np.arange(len(xi)) != xindex\n",
    "    # Use the boolean mask to select the elements we want\n",
    "    elements_except_current = xi[mask]\n",
    "    top = np.prod(x - elements_except_current)\n",
    "    liczniki = np.append(liczniki, top)\n",
    "\n",
    "print(liczniki)\n",
    "print(simplify(liczniki))"
   ]
  },
  {
   "cell_type": "code",
   "execution_count": 114,
   "metadata": {
    "ExecuteTime": {
     "start_time": "2023-04-03T15:01:45.802213Z",
     "end_time": "2023-04-03T15:01:45.819217Z"
    }
   },
   "outputs": [
    {
     "name": "stdout",
     "output_type": "stream",
     "text": [
      "tops [(x - 4)*(x - 3)*(x - 2) (x - 4)*(x - 3)*(x - 1) (x - 4)*(x - 2)*(x - 1)\n",
      " (x - 3)*(x - 2)*(x - 1)]\n",
      "bottoms [-6.  2. -2.  6.]\n",
      "poszczegolne_skladniki [-0.5*(x - 4)*(x - 3)*(x - 2) 0.5*(x - 4)*(x - 3)*(x - 1)\n",
      " 0.5*(x - 4)*(x - 2)*(x - 1) 0.333333333333333*(x - 3)*(x - 2)*(x - 1)]\n",
      "suma -0.5*(x - 4)*(x - 3)*(x - 2) + 0.5*(x - 4)*(x - 3)*(x - 1) + 0.5*(x - 4)*(x - 2)*(x - 1) + 0.333333333333333*(x - 3)*(x - 2)*(x - 1)\n",
      "x*(0.833333333333333*x**2 - 5.0*x + 7.16666666666667)\n"
     ]
    }
   ],
   "source": [
    "print('tops', liczniki)\n",
    "print('bottoms', mianowniki)\n",
    "wyniki_dzielenia = np.divide(liczniki, mianowniki)\n",
    "poszczegolne_skladniki = (yi * wyniki_dzielenia)\n",
    "print('poszczegolne_skladniki', poszczegolne_skladniki)\n",
    "print('suma', np.sum(poszczegolne_skladniki))\n",
    "print(simplify(np.sum(poszczegolne_skladniki)))"
   ]
  },
  {
   "cell_type": "code",
   "execution_count": 115,
   "metadata": {
    "ExecuteTime": {
     "start_time": "2023-04-03T15:01:45.819217Z",
     "end_time": "2023-04-03T15:01:45.974826Z"
    }
   },
   "outputs": [
    {
     "data": {
      "text/plain": "<Figure size 640x480 with 1 Axes>",
      "image/png": "[encoded data removed]"
     },
     "metadata": {},
     "output_type": "display_data"
    }
   ],
   "source": [
    "import sympy as sp\n",
    "from sympy.plotting.plot import MatplotlibBackend, Plot\n",
    "\n",
    "def get_sympy_subplots(plot:Plot):\n",
    "    backend = MatplotlibBackend(plot)\n",
    "\n",
    "    backend.process_series()\n",
    "    backend.fig.tight_layout()\n",
    "    return backend.fig, backend.ax[0]\n",
    "\n",
    "p1 = sp.plot(np.sum(poszczegolne_skladniki), (x, 0, 4),  show=False, line_color='red')\n",
    "p1.title = 'Wielomian interpolacyjny'\n",
    "p1.margin = 0.2\n",
    "fig, axe = get_sympy_subplots(p1)\n",
    "# add additional plots\n",
    "axe.plot(xi, yi, \"o\")\n",
    "axe.grid()\n",
    "fig.savefig(\"plot_from_figure\")\n"
   ]
  }
 ],
 "metadata": {
  "kernelspec": {
   "display_name": "Python 3 (ipykernel)",
   "language": "python",
   "name": "python3"
  },
  "language_info": {
   "codemirror_mode": {
    "name": "ipython",
    "version": 3
   },
   "file_extension": ".py",
   "mimetype": "text/x-python",
   "name": "python",
   "nbconvert_exporter": "python",
   "pygments_lexer": "ipython3",
   "version": "3.10.4"
  }
 },
 "nbformat": 4,
 "nbformat_minor": 1
}
